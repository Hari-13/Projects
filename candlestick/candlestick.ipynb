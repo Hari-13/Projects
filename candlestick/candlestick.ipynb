{
 "cells": [
  {
   "cell_type": "code",
   "execution_count": 1,
   "metadata": {},
   "outputs": [],
   "source": [
    "from datetime import date\n",
    "from nsepy import get_history\n",
    "import pandas as pd"
   ]
  },
  {
   "cell_type": "code",
   "execution_count": 2,
   "metadata": {},
   "outputs": [],
   "source": [
    "def obtain_data(ticker,start,end):\n",
    "# Enter the start and end dates using the method date(yyyy,m,dd)    \n",
    "    stock=get_history(symbol=ticker,start=start,end=end)\n",
    "    df=stock.copy()\n",
    "    df=df.reset_index()\n",
    "    df=df.drop(['Series','Prev Close','Last','Turnover','%Deliverble','Trades'],axis=1)\n",
    "    df=df.rename({'Open':'open_price','Close':'close_price','High':'high','Low':'low','Volume':'volume'},axis='columns')\n",
    "    df.index=df.Date\n",
    "    return df"
   ]
  },
  {
   "cell_type": "code",
   "execution_count": 5,
   "metadata": {},
   "outputs": [],
   "source": [
    "import matplotlib.pyplot as plt\n",
    "import numpy as np\n",
    "import pandas as pd"
   ]
  },
  {
   "cell_type": "code",
   "execution_count": 6,
   "metadata": {},
   "outputs": [],
   "source": [
    "\"\"\"This cell defineds the plot_candles function\"\"\"\n",
    "\n",
    "def plot_candles(pricing, title=None, volume_bars=False, color_function=None, technicals=None):\n",
    "    \"\"\" Plots a candlestick chart using quantopian pricing data.\n",
    "    \n",
    "    Author: Daniel Treiman\n",
    "    \n",
    "    Args:\n",
    "      pricing: A pandas dataframe with columns ['open_price', 'close_price', 'high', 'low', 'volume']\n",
    "      title: An optional title for the chart\n",
    "      volume_bars: If True, plots volume bars\n",
    "      color_function: A function which, given a row index and price series, returns a candle color.\n",
    "      technicals: A list of additional data series to add to the chart.  Must be the same length as pricing.\n",
    "    \"\"\"\n",
    "    def default_color(index, open_price, close_price, low, high):\n",
    "        return 'r' if open_price[index] > close_price[index] else 'g'\n",
    "    color_function = color_function or default_color\n",
    "    technicals = technicals or []\n",
    "    open_price = pricing['open_price']\n",
    "    close_price = pricing['close_price']\n",
    "    low = pricing['low']\n",
    "    high = pricing['high']\n",
    "    oc_min = pd.concat([open_price, close_price], axis=1).min(axis=1)\n",
    "    oc_max = pd.concat([open_price, close_price], axis=1).max(axis=1)\n",
    "    \n",
    "    if volume_bars:\n",
    "        fig, (ax1, ax2) = plt.subplots(2, 1, sharex=True, gridspec_kw={'height_ratios': [3,1]},figsize=(7,7))\n",
    "    else:\n",
    "        fig, ax1 = plt.subplots(1, 1)\n",
    "    if title:\n",
    "        ax1.set_title(title)\n",
    "    fig.tight_layout()\n",
    "    x = np.arange(len(pricing))\n",
    "    candle_colors = [color_function(i, open_price, close_price, low, high) for i in x]\n",
    "    candles = ax1.bar(x, oc_max-oc_min, bottom=oc_min, color=candle_colors, linewidth=0)\n",
    "    lines = ax1.vlines(x , low, high, color=candle_colors, linewidth=1)\n",
    "    ax1.xaxis.grid(True)\n",
    "    ax1.yaxis.grid(True)\n",
    "    ax1.xaxis.set_tick_params(which='major', length=3.0, direction='in', top='off')\n",
    "    ax1.set_yticklabels([])\n",
    "    # Assume minute frequency if first two bars are in the same day.\n",
    "    frequency = 'minute' if (pricing.index[1] - pricing.index[0]).days == 0 else 'day'\n",
    "    time_format = '%d-%m-%Y'\n",
    "    if frequency == 'minute':\n",
    "        time_format = '%H:%M'\n",
    "    # Set X axis tick labels.\n",
    "    #plt.xticks(x, [date.strftime(time_format) for date in pricing.index], rotation='vertical')\n",
    "    for indicator in technicals:\n",
    "        ax1.plot(x, indicator)\n",
    "    \n",
    "    if volume_bars:\n",
    "        volume = pricing['volume']\n",
    "        volume_scale = None\n",
    "        scaled_volume = volume\n",
    "        if volume.max() > 1000000:\n",
    "            volume_scale = 'M'\n",
    "            scaled_volume = volume / 1000000\n",
    "        elif volume.max() > 1000:\n",
    "            volume_scale = 'K'\n",
    "            scaled_volume = volume / 1000\n",
    "        ax2.bar(x, scaled_volume, color=candle_colors)\n",
    "        volume_title = 'Volume'\n",
    "        if volume_scale:\n",
    "            volume_title = 'Volume (%s)' % volume_scale\n",
    "        #ax2.set_title(volume_title)\n",
    "        ax2.xaxis.grid(True)\n",
    "        ax2.set_yticklabels([])\n",
    "        ax2.set_xticklabels([])\n",
    "    return fig    "
   ]
  }
 ],
 "metadata": {
  "kernelspec": {
   "display_name": "Python 3",
   "language": "python",
   "name": "python3"
  },
  "language_info": {
   "codemirror_mode": {
    "name": "ipython",
    "version": 3
   },
   "file_extension": ".py",
   "mimetype": "text/x-python",
   "name": "python",
   "nbconvert_exporter": "python",
   "pygments_lexer": "ipython3",
   "version": "3.8.1"
  }
 },
 "nbformat": 4,
 "nbformat_minor": 4
}
Skip to content
 
Search…
All gists
Back to GitHub
@Hari-13 
@shaan-shah
shaan-shah/Inference2.ipynb
Created 2 years ago • Report abuse
0
0
Code
Revisions
1
<script src="https://gist.github.com/shaan-shah/34e7192c10f33d1f4ae5b0e63b2e1f62.js"></script>
 
Inference2.ipynb
{
 "cells": [
  {
   "cell_type": "markdown",
   "metadata": {},
   "source": [
    "<h1> Training the Model </h1>"
   ]
  },
  {
   "cell_type": "code",
   "execution_count": 11,
   "metadata": {},
   "outputs": [],
   "source": [
    "learn = cnn_learner(data, models.resnet34, metrics=error_rate)"
   ]
  },
  {
   "cell_type": "code",
   "execution_count": 12,
   "metadata": {},
   "outputs": [
    {
     "data": {
      "text/html": [
       "<table border=\"1\" class=\"dataframe\">\n",
       "  <thead>\n",
       "    <tr style=\"text-align: left;\">\n",
       "      <th>epoch</th>\n",
       "      <th>train_loss</th>\n",
       "      <th>valid_loss</th>\n",
       "      <th>error_rate</th>\n",
       "      <th>time</th>\n",
       "    </tr>\n",
       "  </thead>\n",
       "  <tbody>\n",
       "    <tr>\n",
       "      <td>0</td>\n",
       "      <td>1.293409</td>\n",
       "      <td>1.333741</td>\n",
       "      <td>0.484663</td>\n",
       "      <td>00:18</td>\n",
       "    </tr>\n",
       "    <tr>\n",
       "      <td>1</td>\n",
       "      <td>1.215402</td>\n",
       "      <td>0.888560</td>\n",
       "      <td>0.476483</td>\n",
       "      <td>00:17</td>\n",
       "    </tr>\n",
       "    <tr>\n",
       "      <td>2</td>\n",
       "      <td>1.016288</td>\n",
       "      <td>0.763593</td>\n",
       "      <td>0.480573</td>\n",
       "      <td>00:16</td>\n",
       "    </tr>\n",
       "    <tr>\n",
       "      <td>3</td>\n",
       "      <td>0.887842</td>\n",
       "      <td>0.744518</td>\n",
       "      <td>0.484663</td>\n",
       "      <td>00:17</td>\n",
       "    </tr>\n",
       "  </tbody>\n",
       "</table>"
      ],
      "text/plain": [
       "<IPython.core.display.HTML object>"
      ]
     },
     "metadata": {},
     "output_type": "display_data"
    }
   ],
   "source": [
    "learn.fit_one_cycle(4)"
   ]
  },
  {
   "cell_type": "code",
   "execution_count": 13,
   "metadata": {},
   "outputs": [],
   "source": [
    "learn.unfreeze()"
   ]
  },
  {
   "cell_type": "code",
   "execution_count": 14,
   "metadata": {},
   "outputs": [
    {
     "data": {
      "text/html": [
       "\n",
       "    <div>\n",
       "        <style>\n",
       "            /* Turns off some styling */\n",
       "            progress {\n",
       "                /* gets rid of default border in Firefox and Opera. */\n",
       "                border: none;\n",
       "                /* Needs to be in here for Safari polyfill so background images work as expected. */\n",
       "                background-size: auto;\n",
       "            }\n",
       "            .progress-bar-interrupted, .progress-bar-interrupted::-webkit-progress-bar {\n",
       "                background: #F44336;\n",
       "            }\n",
       "        </style>\n",
       "      <progress value='2' class='' max='4', style='width:300px; height:20px; vertical-align: middle;'></progress>\n",
       "      50.00% [2/4 00:26<00:26]\n",
       "    </div>\n",
       "    \n",
       "<table border=\"1\" class=\"dataframe\">\n",
       "  <thead>\n",
       "    <tr style=\"text-align: left;\">\n",
       "      <th>epoch</th>\n",
       "      <th>train_loss</th>\n",
       "      <th>valid_loss</th>\n",
       "      <th>error_rate</th>\n",
       "      <th>time</th>\n",
       "    </tr>\n",
       "  </thead>\n",
       "  <tbody>\n",
       "    <tr>\n",
       "      <td>0</td>\n",
       "      <td>0.765929</td>\n",
       "      <td>#na#</td>\n",
       "      <td>00:13</td>\n",
       "    </tr>\n",
       "    <tr>\n",
       "      <td>1</td>\n",
       "      <td>0.782394</td>\n",
       "      <td>#na#</td>\n",
       "      <td>00:12</td>\n",
       "    </tr>\n",
       "  </tbody>\n",
       "</table><p>\n",
       "\n",
       "    <div>\n",
       "        <style>\n",
       "            /* Turns off some styling */\n",
       "            progress {\n",
       "                /* gets rid of default border in Firefox and Opera. */\n",
       "                border: none;\n",
       "                /* Needs to be in here for Safari polyfill so background images work as expected. */\n",
       "                background-size: auto;\n",
       "            }\n",
       "            .progress-bar-interrupted, .progress-bar-interrupted::-webkit-progress-bar {\n",
       "                background: #F44336;\n",
       "            }\n",
       "        </style>\n",
       "      <progress value='29' class='' max='30', style='width:300px; height:20px; vertical-align: middle;'></progress>\n",
       "      96.67% [29/30 00:12<00:00 2.6031]\n",
       "    </div>\n",
       "    "
      ],
      "text/plain": [
       "<IPython.core.display.HTML object>"
      ]
     },
     "metadata": {},
     "output_type": "display_data"
    },
    {
     "name": "stdout",
     "output_type": "stream",
     "text": [
      "LR Finder is complete, type {learner_name}.recorder.plot() to see the graph.\n"
     ]
    }
   ],
   "source": [
    "learn.lr_find()"
   ]
  },
  {
   "cell_type": "code",
   "execution_count": 15,
   "metadata": {},
   "outputs": [
    {
     "data": {
      "image/png": "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\n",
      "text/plain": [
       "<Figure size 432x288 with 1 Axes>"
      ]
     },
     "metadata": {
      "needs_background": "light"
     },
     "output_type": "display_data"
    }
   ],
   "source": [
    "learn.recorder.plot()"
   ]
  },
  {
   "cell_type": "code",
   "execution_count": 16,
   "metadata": {},
   "outputs": [
    {
     "data": {
      "text/html": [
       "<table border=\"1\" class=\"dataframe\">\n",
       "  <thead>\n",
       "    <tr style=\"text-align: left;\">\n",
       "      <th>epoch</th>\n",
       "      <th>train_loss</th>\n",
       "      <th>valid_loss</th>\n",
       "      <th>error_rate</th>\n",
       "      <th>time</th>\n",
       "    </tr>\n",
       "  </thead>\n",
       "  <tbody>\n",
       "    <tr>\n",
       "      <td>0</td>\n",
       "      <td>0.752549</td>\n",
       "      <td>0.744013</td>\n",
       "      <td>0.486708</td>\n",
       "      <td>00:16</td>\n",
       "    </tr>\n",
       "    <tr>\n",
       "      <td>1</td>\n",
       "      <td>0.734988</td>\n",
       "      <td>0.739380</td>\n",
       "      <td>0.464213</td>\n",
       "      <td>00:17</td>\n",
       "    </tr>\n",
       "    <tr>\n",
       "      <td>2</td>\n",
       "      <td>0.736778</td>\n",
       "      <td>0.724887</td>\n",
       "      <td>0.458078</td>\n",
       "      <td>00:17</td>\n",
       "    </tr>\n",
       "    <tr>\n",
       "      <td>3</td>\n",
       "      <td>0.730948</td>\n",
       "      <td>0.723458</td>\n",
       "      <td>0.474438</td>\n",
       "      <td>00:16</td>\n",
       "    </tr>\n",
       "    <tr>\n",
       "      <td>4</td>\n",
       "      <td>0.719952</td>\n",
       "      <td>0.714411</td>\n",
       "      <td>0.458078</td>\n",
       "      <td>00:16</td>\n",
       "    </tr>\n",
       "    <tr>\n",
       "      <td>5</td>\n",
       "      <td>0.712202</td>\n",
       "      <td>0.704705</td>\n",
       "      <td>0.464213</td>\n",
       "      <td>00:16</td>\n",
       "    </tr>\n",
       "    <tr>\n",
       "      <td>6</td>\n",
       "      <td>0.695633</td>\n",
       "      <td>0.706335</td>\n",
       "      <td>0.466258</td>\n",
       "      <td>00:16</td>\n",
       "    </tr>\n",
       "    <tr>\n",
       "      <td>7</td>\n",
       "      <td>0.691850</td>\n",
       "      <td>0.703327</td>\n",
       "      <td>0.464213</td>\n",
       "      <td>00:17</td>\n",
       "    </tr>\n",
       "    <tr>\n",
       "      <td>8</td>\n",
       "      <td>0.676340</td>\n",
       "      <td>0.703003</td>\n",
       "      <td>0.476483</td>\n",
       "      <td>00:17</td>\n",
       "    </tr>\n",
       "    <tr>\n",
       "      <td>9</td>\n",
       "      <td>0.675964</td>\n",
       "      <td>0.701894</td>\n",
       "      <td>0.464213</td>\n",
       "      <td>00:17</td>\n",
       "    </tr>\n",
       "  </tbody>\n",
       "</table>"
      ],
      "text/plain": [
       "<IPython.core.display.HTML object>"
      ]
     },
     "metadata": {},
     "output_type": "display_data"
    }
   ],
   "source": [
    "learn.fit_one_cycle(10, max_lr=slice(1e-6,1e-4))"
   ]
  },
  {
   "cell_type": "code",
   "execution_count": 17,
   "metadata": {},
   "outputs": [
    {
     "data": {
      "text/html": [
       "\n",
       "    <div>\n",
       "        <style>\n",
       "            /* Turns off some styling */\n",
       "            progress {\n",
       "                /* gets rid of default border in Firefox and Opera. */\n",
       "                border: none;\n",
       "                /* Needs to be in here for Safari polyfill so background images work as expected. */\n",
       "                background-size: auto;\n",
       "            }\n",
       "            .progress-bar-interrupted, .progress-bar-interrupted::-webkit-progress-bar {\n",
       "                background: #F44336;\n",
       "            }\n",
       "        </style>\n",
       "      <progress value='2' class='' max='4', style='width:300px; height:20px; vertical-align: middle;'></progress>\n",
       "      50.00% [2/4 00:26<00:26]\n",
       "    </div>\n",
       "    \n",
       "<table border=\"1\" class=\"dataframe\">\n",
       "  <thead>\n",
       "    <tr style=\"text-align: left;\">\n",
       "      <th>epoch</th>\n",
       "      <th>train_loss</th>\n",
       "      <th>valid_loss</th>\n",
       "      <th>error_rate</th>\n",
       "      <th>time</th>\n",
       "    </tr>\n",
       "  </thead>\n",
       "  <tbody>\n",
       "    <tr>\n",
       "      <td>0</td>\n",
       "      <td>0.670445</td>\n",
       "      <td>#na#</td>\n",
       "      <td>00:13</td>\n",
       "    </tr>\n",
       "    <tr>\n",
       "      <td>1</td>\n",
       "      <td>0.718927</td>\n",
       "      <td>#na#</td>\n",
       "      <td>00:13</td>\n",
       "    </tr>\n",
       "  </tbody>\n",
       "</table><p>\n",
       "\n",
       "    <div>\n",
       "        <style>\n",
       "            /* Turns off some styling */\n",
       "            progress {\n",
       "                /* gets rid of default border in Firefox and Opera. */\n",
       "                border: none;\n",
       "                /* Needs to be in here for Safari polyfill so background images work as expected. */\n",
       "                background-size: auto;\n",
       "            }\n",
       "            .progress-bar-interrupted, .progress-bar-interrupted::-webkit-progress-bar {\n",
       "                background: #F44336;\n",
       "            }\n",
       "        </style>\n",
       "      <progress value='29' class='' max='30', style='width:300px; height:20px; vertical-align: middle;'></progress>\n",
       "      96.67% [29/30 00:13<00:00 2.3182]\n",
       "    </div>\n",
       "    "
      ],
      "text/plain": [
       "<IPython.core.display.HTML object>"
      ]
     },
     "metadata": {},
     "output_type": "display_data"
    },
    {
     "name": "stdout",
     "output_type": "stream",
     "text": [
      "LR Finder is complete, type {learner_name}.recorder.plot() to see the graph.\n"
     ]
    }
   ],
   "source": [
    "learn.lr_find()"
   ]
  },
  {
   "cell_type": "code",
   "execution_count": 18,
   "metadata": {},
   "outputs": [
    {
     "data": {
      "image/png": "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\n",
      "text/plain": [
       "<Figure size 432x288 with 1 Axes>"
      ]
     },
     "metadata": {
      "needs_background": "light"
     },
     "output_type": "display_data"
    }
   ],
   "source": [
    "learn.recorder.plot()"
   ]
  },
  {
   "cell_type": "code",
   "execution_count": 19,
   "metadata": {},
   "outputs": [
    {
     "data": {
      "text/html": [
       "<table border=\"1\" class=\"dataframe\">\n",
       "  <thead>\n",
       "    <tr style=\"text-align: left;\">\n",
       "      <th>epoch</th>\n",
       "      <th>train_loss</th>\n",
       "      <th>valid_loss</th>\n",
       "      <th>error_rate</th>\n",
       "      <th>time</th>\n",
       "    </tr>\n",
       "  </thead>\n",
       "  <tbody>\n",
       "    <tr>\n",
       "      <td>0</td>\n",
       "      <td>0.676047</td>\n",
       "      <td>0.697034</td>\n",
       "      <td>0.456033</td>\n",
       "      <td>00:17</td>\n",
       "    </tr>\n",
       "    <tr>\n",
       "      <td>1</td>\n",
       "      <td>0.678649</td>\n",
       "      <td>0.689777</td>\n",
       "      <td>0.433538</td>\n",
       "      <td>00:16</td>\n",
       "    </tr>\n",
       "    <tr>\n",
       "      <td>2</td>\n",
       "      <td>0.667470</td>\n",
       "      <td>0.689013</td>\n",
       "      <td>0.439673</td>\n",
       "      <td>00:16</td>\n",
       "    </tr>\n",
       "    <tr>\n",
       "      <td>3</td>\n",
       "      <td>0.650513</td>\n",
       "      <td>0.691708</td>\n",
       "      <td>0.439673</td>\n",
       "      <td>00:17</td>\n",
       "    </tr>\n",
       "    <tr>\n",
       "      <td>4</td>\n",
       "      <td>0.649764</td>\n",
       "      <td>0.689810</td>\n",
       "      <td>0.445808</td>\n",
       "      <td>00:16</td>\n",
       "    </tr>\n",
       "  </tbody>\n",
       "</table>"
      ],
      "text/plain": [
       "<IPython.core.display.HTML object>"
      ]
     },
     "metadata": {},
     "output_type": "display_data"
    }
   ],
   "source": [
    "learn.fit_one_cycle(5, max_lr=slice(1e-6,1e-4))"
   ]
  },
  {
   "cell_type": "code",
   "execution_count": 20,
   "metadata": {},
   "outputs": [
    {
     "data": {
      "text/html": [
       "\n",
       "    <div>\n",
       "        <style>\n",
       "            /* Turns off some styling */\n",
       "            progress {\n",
       "                /* gets rid of default border in Firefox and Opera. */\n",
       "                border: none;\n",
       "                /* Needs to be in here for Safari polyfill so background images work as expected. */\n",
       "                background-size: auto;\n",
       "            }\n",
       "            .progress-bar-interrupted, .progress-bar-interrupted::-webkit-progress-bar {\n",
       "                background: #F44336;\n",
       "            }\n",
       "        </style>\n",
       "      <progress value='2' class='' max='4', style='width:300px; height:20px; vertical-align: middle;'></progress>\n",
       "      50.00% [2/4 00:27<00:27]\n",
       "    </div>\n",
       "    \n",
       "<table border=\"1\" class=\"dataframe\">\n",
       "  <thead>\n",
       "    <tr style=\"text-align: left;\">\n",
       "      <th>epoch</th>\n",
       "      <th>train_loss</th>\n",
       "      <th>valid_loss</th>\n",
       "      <th>error_rate</th>\n",
       "      <th>time</th>\n",
       "    </tr>\n",
       "  </thead>\n",
       "  <tbody>\n",
       "    <tr>\n",
       "      <td>0</td>\n",
       "      <td>0.631338</td>\n",
       "      <td>#na#</td>\n",
       "      <td>00:13</td>\n",
       "    </tr>\n",
       "    <tr>\n",
       "      <td>1</td>\n",
       "      <td>0.696015</td>\n",
       "      <td>#na#</td>\n",
       "      <td>00:13</td>\n",
       "    </tr>\n",
       "  </tbody>\n",
       "</table><p>\n",
       "\n",
       "    <div>\n",
       "        <style>\n",
       "            /* Turns off some styling */\n",
       "            progress {\n",
       "                /* gets rid of default border in Firefox and Opera. */\n",
       "                border: none;\n",
       "                /* Needs to be in here for Safari polyfill so background images work as expected. */\n",
       "                background-size: auto;\n",
       "            }\n",
       "            .progress-bar-interrupted, .progress-bar-interrupted::-webkit-progress-bar {\n",
       "                background: #F44336;\n",
       "            }\n",
       "        </style>\n",
       "      <progress value='29' class='' max='30', style='width:300px; height:20px; vertical-align: middle;'></progress>\n",
       "      96.67% [29/30 00:13<00:00 2.0167]\n",
       "    </div>\n",
       "    "
      ],
      "text/plain": [
       "<IPython.core.display.HTML object>"
      ]
     },
     "metadata": {},
     "output_type": "display_data"
    },
    {
     "name": "stdout",
     "output_type": "stream",
     "text": [
      "LR Finder is complete, type {learner_name}.recorder.plot() to see the graph.\n"
     ]
    }
   ],
   "source": [
    "learn.lr_find()"
   ]
  },
  {
   "cell_type": "code",
   "execution_count": 21,
   "metadata": {},
   "outputs": [
    {
     "data": {
      "image/png": "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\n",
      "text/plain": [
       "<Figure size 432x288 with 1 Axes>"
      ]
     },
     "metadata": {
      "needs_background": "light"
     },
     "output_type": "display_data"
    }
   ],
   "source": [
    "learn.recorder.plot()"
   ]
  },
  {
   "cell_type": "code",
   "execution_count": 22,
   "metadata": {},
   "outputs": [
    {
     "data": {
      "text/html": [
       "<table border=\"1\" class=\"dataframe\">\n",
       "  <thead>\n",
       "    <tr style=\"text-align: left;\">\n",
       "      <th>epoch</th>\n",
       "      <th>train_loss</th>\n",
       "      <th>valid_loss</th>\n",
       "      <th>error_rate</th>\n",
       "      <th>time</th>\n",
       "    </tr>\n",
       "  </thead>\n",
       "  <tbody>\n",
       "    <tr>\n",
       "      <td>0</td>\n",
       "      <td>0.632485</td>\n",
       "      <td>0.677004</td>\n",
       "      <td>0.427403</td>\n",
       "      <td>00:16</td>\n",
       "    </tr>\n",
       "    <tr>\n",
       "      <td>1</td>\n",
       "      <td>0.630447</td>\n",
       "      <td>0.667037</td>\n",
       "      <td>0.398773</td>\n",
       "      <td>00:17</td>\n",
       "    </tr>\n",
       "    <tr>\n",
       "      <td>2</td>\n",
       "      <td>0.613334</td>\n",
       "      <td>0.678722</td>\n",
       "      <td>0.378323</td>\n",
       "      <td>00:16</td>\n",
       "    </tr>\n",
       "    <tr>\n",
       "      <td>3</td>\n",
       "      <td>0.592594</td>\n",
       "      <td>0.671992</td>\n",
       "      <td>0.388548</td>\n",
       "      <td>00:16</td>\n",
       "    </tr>\n",
       "    <tr>\n",
       "      <td>4</td>\n",
       "      <td>0.583138</td>\n",
       "      <td>0.667380</td>\n",
       "      <td>0.376278</td>\n",
       "      <td>00:16</td>\n",
       "    </tr>\n",
       "  </tbody>\n",
       "</table>"
      ],
      "text/plain": [
       "<IPython.core.display.HTML object>"
      ]
     },
     "metadata": {},
     "output_type": "display_data"
    }
   ],
   "source": [
    "learn.fit_one_cycle(5,max_lr=slice(1e-5,1e-4))"
   ]
  },
  {
   "cell_type": "code",
   "execution_count": 23,
   "metadata": {},
   "outputs": [],
   "source": [
    "learn.save('First Model')"
   ]
  },
  {
   "cell_type": "code",
   "execution_count": 24,
   "metadata": {},
   "outputs": [],
   "source": [
    "data = ImageDataBunch.from_folder(path, train=\".\", valid_pct=0.2,\n",
    "        ds_tfms=get_transforms(flip_vert=False, max_lighting=0.1, max_zoom=1.05, max_warp=0.,max_rotate=3), size=352, num_workers=4).normalize(imagenet_stats)"
   ]
  },
  {
   "cell_type": "code",
   "execution_count": 25,
   "metadata": {},
   "outputs": [],
   "source": [
    "learn.data=data"
   ]
  },
  {
   "cell_type": "code",
   "execution_count": 26,
   "metadata": {},
   "outputs": [
    {
     "data": {
      "text/html": [
       "\n",
       "    <div>\n",
       "        <style>\n",
       "            /* Turns off some styling */\n",
       "            progress {\n",
       "                /* gets rid of default border in Firefox and Opera. */\n",
       "                border: none;\n",
       "                /* Needs to be in here for Safari polyfill so background images work as expected. */\n",
       "                background-size: auto;\n",
       "            }\n",
       "            .progress-bar-interrupted, .progress-bar-interrupted::-webkit-progress-bar {\n",
       "                background: #F44336;\n",
       "            }\n",
       "        </style>\n",
       "      <progress value='2' class='' max='4', style='width:300px; height:20px; vertical-align: middle;'></progress>\n",
       "      50.00% [2/4 00:38<00:38]\n",
       "    </div>\n",
       "    \n",
       "<table border=\"1\" class=\"dataframe\">\n",
       "  <thead>\n",
       "    <tr style=\"text-align: left;\">\n",
       "      <th>epoch</th>\n",
       "      <th>train_loss</th>\n",
       "      <th>valid_loss</th>\n",
       "      <th>error_rate</th>\n",
       "      <th>time</th>\n",
       "    </tr>\n",
       "  </thead>\n",
       "  <tbody>\n",
       "    <tr>\n",
       "      <td>0</td>\n",
       "      <td>0.757603</td>\n",
       "      <td>#na#</td>\n",
       "      <td>00:20</td>\n",
       "    </tr>\n",
       "    <tr>\n",
       "      <td>1</td>\n",
       "      <td>0.762203</td>\n",
       "      <td>#na#</td>\n",
       "      <td>00:18</td>\n",
       "    </tr>\n",
       "  </tbody>\n",
       "</table><p>\n",
       "\n",
       "    <div>\n",
       "        <style>\n",
       "            /* Turns off some styling */\n",
       "            progress {\n",
       "                /* gets rid of default border in Firefox and Opera. */\n",
       "                border: none;\n",
       "                /* Needs to be in here for Safari polyfill so background images work as expected. */\n",
       "                background-size: auto;\n",
       "            }\n",
       "            .progress-bar-interrupted, .progress-bar-interrupted::-webkit-progress-bar {\n",
       "                background: #F44336;\n",
       "            }\n",
       "        </style>\n",
       "      <progress value='29' class='' max='30', style='width:300px; height:20px; vertical-align: middle;'></progress>\n",
       "      96.67% [29/30 00:17<00:00 2.3214]\n",
       "    </div>\n",
       "    "
      ],
      "text/plain": [
       "<IPython.core.display.HTML object>"
      ]
     },
     "metadata": {},
     "output_type": "display_data"
    },
    {
     "name": "stdout",
     "output_type": "stream",
     "text": [
      "LR Finder is complete, type {learner_name}.recorder.plot() to see the graph.\n"
     ]
    }
   ],
   "source": [
    "gc.collect()\n",
    "learn.lr_find()"
   ]
  },
  {
   "cell_type": "code",
   "execution_count": 27,
   "metadata": {},
   "outputs": [
    {
     "data": {
      "image/png": "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\n",
      "text/plain": [
       "<Figure size 432x288 with 1 Axes>"
      ]
     },
     "metadata": {
      "needs_background": "light"
     },
     "output_type": "display_data"
    }
   ],
   "source": [
    "learn.recorder.plot()"
   ]
  },
  {
   "cell_type": "code",
   "execution_count": 28,
   "metadata": {},
   "outputs": [
    {
     "data": {
      "text/html": [
       "<table border=\"1\" class=\"dataframe\">\n",
       "  <thead>\n",
       "    <tr style=\"text-align: left;\">\n",
       "      <th>epoch</th>\n",
       "      <th>train_loss</th>\n",
       "      <th>valid_loss</th>\n",
       "      <th>error_rate</th>\n",
       "      <th>time</th>\n",
       "    </tr>\n",
       "  </thead>\n",
       "  <tbody>\n",
       "    <tr>\n",
       "      <td>0</td>\n",
       "      <td>0.774475</td>\n",
       "      <td>0.703659</td>\n",
       "      <td>0.425358</td>\n",
       "      <td>00:21</td>\n",
       "    </tr>\n",
       "    <tr>\n",
       "      <td>1</td>\n",
       "      <td>0.750636</td>\n",
       "      <td>0.672796</td>\n",
       "      <td>0.396728</td>\n",
       "      <td>00:21</td>\n",
       "    </tr>\n",
       "    <tr>\n",
       "      <td>2</td>\n",
       "      <td>0.720549</td>\n",
       "      <td>0.660479</td>\n",
       "      <td>0.388548</td>\n",
       "      <td>00:21</td>\n",
       "    </tr>\n",
       "    <tr>\n",
       "      <td>3</td>\n",
       "      <td>0.694842</td>\n",
       "      <td>0.667638</td>\n",
       "      <td>0.384458</td>\n",
       "      <td>00:21</td>\n",
       "    </tr>\n",
       "    <tr>\n",
       "      <td>4</td>\n",
       "      <td>0.663204</td>\n",
       "      <td>0.665604</td>\n",
       "      <td>0.382413</td>\n",
       "      <td>00:21</td>\n",
       "    </tr>\n",
       "  </tbody>\n",
       "</table>"
      ],
      "text/plain": [
       "<IPython.core.display.HTML object>"
      ]
     },
     "metadata": {},
     "output_type": "display_data"
    }
   ],
   "source": [
    "learn.fit_one_cycle(5,max_lr=slice(1e-5,1e-4))"
   ]
  },
  {
   "cell_type": "code",
   "execution_count": 29,
   "metadata": {},
   "outputs": [
    {
     "data": {
      "text/html": [
       "\n",
       "    <div>\n",
       "        <style>\n",
       "            /* Turns off some styling */\n",
       "            progress {\n",
       "                /* gets rid of default border in Firefox and Opera. */\n",
       "                border: none;\n",
       "                /* Needs to be in here for Safari polyfill so background images work as expected. */\n",
       "                background-size: auto;\n",
       "            }\n",
       "            .progress-bar-interrupted, .progress-bar-interrupted::-webkit-progress-bar {\n",
       "                background: #F44336;\n",
       "            }\n",
       "        </style>\n",
       "      <progress value='2' class='' max='4', style='width:300px; height:20px; vertical-align: middle;'></progress>\n",
       "      50.00% [2/4 00:36<00:36]\n",
       "    </div>\n",
       "    \n",
       "<table border=\"1\" class=\"dataframe\">\n",
       "  <thead>\n",
       "    <tr style=\"text-align: left;\">\n",
       "      <th>epoch</th>\n",
       "      <th>train_loss</th>\n",
       "      <th>valid_loss</th>\n",
       "      <th>error_rate</th>\n",
       "      <th>time</th>\n",
       "    </tr>\n",
       "  </thead>\n",
       "  <tbody>\n",
       "    <tr>\n",
       "      <td>0</td>\n",
       "      <td>0.644695</td>\n",
       "      <td>#na#</td>\n",
       "      <td>00:18</td>\n",
       "    </tr>\n",
       "    <tr>\n",
       "      <td>1</td>\n",
       "      <td>0.693140</td>\n",
       "      <td>#na#</td>\n",
       "      <td>00:18</td>\n",
       "    </tr>\n",
       "  </tbody>\n",
       "</table><p>\n",
       "\n",
       "    <div>\n",
       "        <style>\n",
       "            /* Turns off some styling */\n",
       "            progress {\n",
       "                /* gets rid of default border in Firefox and Opera. */\n",
       "                border: none;\n",
       "                /* Needs to be in here for Safari polyfill so background images work as expected. */\n",
       "                background-size: auto;\n",
       "            }\n",
       "            .progress-bar-interrupted, .progress-bar-interrupted::-webkit-progress-bar {\n",
       "                background: #F44336;\n",
       "            }\n",
       "        </style>\n",
       "      <progress value='29' class='' max='30', style='width:300px; height:20px; vertical-align: middle;'></progress>\n",
       "      96.67% [29/30 00:17<00:00 2.3989]\n",
       "    </div>\n",
       "    "
      ],
      "text/plain": [
       "<IPython.core.display.HTML object>"
      ]
     },
     "metadata": {},
     "output_type": "display_data"
    },
    {
     "name": "stdout",
     "output_type": "stream",
     "text": [
      "LR Finder is complete, type {learner_name}.recorder.plot() to see the graph.\n"
     ]
    }
   ],
   "source": [
    "learn.lr_find()"
   ]
  },
  {
   "cell_type": "code",
   "execution_count": 30,
   "metadata": {},
   "outputs": [
    {
     "data": {
      "image/png": "iVBORw0KGgoAAAANSUhEUgAAAZIAAAEKCAYAAAA4t9PUAAAABHNCSVQICAgIfAhkiAAAAAlwSFlzAAALEgAACxIB0t1+/AAAADl0RVh0U29mdHdhcmUAbWF0cGxvdGxpYiB2ZXJzaW9uIDMuMC4yLCBodHRwOi8vbWF0cGxvdGxpYi5vcmcvOIA7rQAAIABJREFUeJzt3Xl4XPV97/H3V7u1714keZPtgCG2ic1iCIEkQAlNQyhtCm3TkKSh97ZJm+am97ZP2qRNnnRLe9MsTVKaS6BpgaykQJICSSBQbAcbsA2YxZY3ydto39eZ7/1jRjAYWZI1Oprt83qeeTxz5szM9+cz0kfn9zvnd8zdERERmaucZBcgIiLpTUEiIiIJUZCIiEhCFCQiIpIQBYmIiCREQSIiIglRkIiISEIUJCIikhAFiYiIJCQv2QWcrdraWl+5cmWyyxARSStPPfVUh7vXBfHeaRckK1euZNeuXckuQ0QkrZjZkaDeW11bIiKSEAWJiIgkREEiIiIJUZCIiEhCFCQiIpIQBYmIiCREQSIiIglRkIiIpIEv/GQ/j+9vT3YZU1KQiIikuHDE+cJPX+bJQ13JLmVKChIRkRTXOTBKxKG+rDDZpUxJQSIikuJC/aMA1JUVJbmSqSlIRERSXKh/BID6cu2RiIjIHIT6onsk6toSEZE5aX+la0tBIiIicxDqH6WyOJ/CvNxklzIlBYmISIoL9Y+kbLcWKEhERFJeqH+U+hQ9YgsUJCIiKS/UN6o9EhERmRt3p71/lLoUPfQXFCQiIimtd3icsXCEulIFiYiIzMHkWe315RojERGROUj1kxFBQSIiktJemR5FQSIiInOR1V1bZna7mYXM7LkZ1rvQzMJm9mtB1SIikq5CfaMUF+RSWpiX7FLOKMg9kjuAa6dbwcxygb8DHgywDhGRtJXqZ7VDgEHi7o8BM13O6yPA94BQUHWIiKSzVD+rHZI4RmJmDcANwNeSVYOISKpL9ZMRIbmD7f8E/B93D8+0opndama7zGxXe3v7ApQmIpIaQn2p37WVzNGbLcA9ZgZQC1xnZhPu/oPTV3T324DbALZs2eILWqWISJIMjk4wOBZO+a6tpAWJu6+avG9mdwAPTBUiIiLZavKCVlm7R2JmdwNXArVm1gZ8CsgHcHeNi4iIzODVc0iyNEjc/eazWPeWoOoQEUlXr57VntpdWzqzXUQkRaXDPFugIBERSVmh/lHyc43K4vxklzItBYmISIoK9Y9QV1pI7OjWlKUgERFJUdGTEVN7fAQUJCIiKSvVr9U+SUEiIpKi0mHCRlCQiIikpLGJCN1D4yl/6C8oSEREUlL7QHqcjAgKEhGRlBTqS/1L7E5SkIiIpKBXpkdR15aIiMxFusyzBQoSEZGU1N43ghnUlBQku5QZKUhERFJQ+8AoNSWF5OWm/q/p1K9QRCQLpcvJiKAgERFJSaH+0bQYHwEFiYhISkqXs9pBQSIiknLCEadjYIw6BYmIiMxFx8Ao4YizJA1m/gUFiYhIyjkQGgCgua40yZXMjoJERCTF7D/VD8CaegWJiIjMwf7QAOVFeRojERGRudkfGmDt4rKUv8TuJAWJiEiKORAaYG2adGuBgkREJKV0DozSNTiWNuMjoCAREUkpk0dsrV1cluRKZk9BIiKSQvZPBon2SEREZC4OhAYoKchlaUV6nIwIChIRkZSyP9TPmjQ6YgsUJCIiKWX/qfQ6YgsUJCIiKaN3aJxQ/6iCRERE5uZAe3pNjTJJQSIikiL2n5o8Yit9Dv0FBYmISMrYHxqgKD+HhqpFyS7lrChIRERSxP7QAM11peTmpM8RW6AgERFJGQdO9afdQDsoSEREUsLA6ATHe0fSamqUSQoSEZEU0BKbGiXdjtgCBYmISEpIxzm2JgUWJGZ2u5mFzOy5Mzz/W2a2N3bbZmYbg6pFRCTV7Q/1U5Cbw/Lq4mSXctaC3CO5A7h2mucPAVe4+wbgM8BtAdYiIpLSDpwaYHVdCXm56ddRFFjF7v4Y0DXN89vcvTv2cAfQGFQtIiKpbn9ogOY07NaC1Bkj+SDw42QXISKSDMNjYVq7h9JyfAQgL9kFmNlbiQbJm6dZ51bgVoDly5cvUGUiIgvjQGgA9/SbGmVSUvdIzGwD8HXgenfvPNN67n6bu29x9y11dXULV6CIyALYe6wHgDc2VCS5krlJWpCY2XLg+8B73f3lZNUhIpJse1p7qCrOp6k6vebYmhRY15aZ3Q1cCdSaWRvwKSAfwN2/BnwSqAG+ErsS2IS7bwmqHhGRVLW3rZcNjZVpdVXEeIEFibvfPMPzvwv8blCfLyKSDobGJnj5VD/XnLck2aXMWaoctSUikpWeO9ZHxGFTU3qOj4CCREQkqfa0RgfaNzRWJrmSuVOQiIgk0e62HhoqF1FbWpjsUuZMQSIikkR723rY1JS+eyOgIBERSZrOgVFau4bZ0Ji+4yOgIBERSZq9bb0AbNQeiYiIzMWeth7M4Pw0PaN9koJERCRJ9rT2sLa+lNLCpE97mBAFiYhIErg7e9t62ZjGh/1OUpCIiCRBW/cwnYNjbEjz8RFQkIiIJMWetuiJiJu0RyIiInOxt62Xgrwc3rAkPa9BEk9BIiKSBLtbe1i/tJyCvPT/NZz+LRARSTPhiPPcsd60P6N9koJERGSBHQgNMDQWZmMaz/gbT0EiIrLAdh3pAmBTU1WSK5kfChIRkQW242AXi8sLWVlTnOxS5oWCRERkAbk721s6uWR1TdpeWvd0swoSM2s2s8LY/SvN7A/NLDNGiUREFlBL+wAdA6NsXV2T7FLmzWz3SL4HhM1sDfD/gFXAXYFVJSKSobYfjI6PbG3OviCJuPsEcAPwT+7+x8DS4MoSEclMO1o6WVpRxPLqzBgfgdkHybiZ3Qy8D3ggtiw/mJJERDKTu7PjYCdbM2h8BGYfJO8HtgKfdfdDZrYK+PfgyhIRyTz7QwN0Do5xSQZ1awHMahJ8d98H/CGAmVUBZe7+t0EWJiKSaba3dAJk1EA7zP6orUfNrNzMqoE9wDfM7P8GW5qISGbZ3tJJQ+UimjJofARm37VV4e59wK8C33D3zcBVwZUlIpJZIhHnF4ei549kmtkGSZ6ZLQXew6uD7SIiMksvneqne2g8ow77nTTbIPk08CDQ4u47zWw1sD+4skREMsvk+Mglq6uTXMn8m+1g+3eA78Q9PgjcGFRRIiKZZsfBTpqqF9FYlVnjIzD7wfZGM7vXzEJmdsrMvmdmjUEXJyKSCaLjI10Zd7TWpNl2bX0DuA9YBjQA98eWiYjIDJ4/3kfv8HhGDrTDLLu2gDp3jw+OO8zso0EUJCKSCVq7hvjpC6f46YshfnGwi4LcHC5trk12WYGYbZB0mNlvA3fHHt8MdAZTkohIevvmjiP8xQ+eA2B1XQnvu3QFv7JxGUsqipJcWTBmGyQfAL4MfB5wYBvRaVNERCSOu3PntsNsaKzgizddwMrakmSXFLhZjZG4+1F3f5e717l7vbu/m+jJiSIiEuelU/0cCA3w61uasiJEILErJH5s3qoQEckQD+w5QY7BO85fkuxSFkwiQZI5cyCLiMwDd+eBvce5tLmW2tLCZJezYBIJEp+3KkREMsDzx/s43DnEOzdk13X/pg0SM+s3s74pbv1EzymZ7rW3x05gfO4Mz5uZfdHMDpjZXjN7UwLtEBFJuvv3Hicvx7g2i7q1YIYgcfcydy+f4lbm7jMd8XUHcO00z78DWBu73Qp89WwKFxFJJe7OA3tOcPnaWiqLC5JdzoJKpGtrWu7+GNA1zSrXA//mUTuAytgMwyIiaeeZ1h6O9Qzzzg3TdtZkpMCCZBYagNa4x22xZa9jZrea2S4z29Xe3r4gxYmInI0H9pygIDeHq89bnOxSFlwyg2Sqo76mHMB399vcfYu7b6mrqwu4LBGRsxOJOD969gRXvKGO8qL8ZJez4JIZJG1AU9zjRuB4kmoREZmzXUe6Odk3knVHa01KZpDcB/xO7OitS4Bedz+RxHpERM5a/8g4X/rZforyc7jq3Ozr1oLZz7V11szsbuBKoNbM2oBPAfkA7v414EfAdcABYAjN3SUiaebZtl4+fPfTtHUP8xe/fC4lhYH9Sk1pgbXa3W+e4XkH/iCozxcRCYq7840nDvM3P36B2tJC7rn1Ei5cmXmX0J2t7IxPEZEE/PkPnuM/fnGUq86t53O/tpGqkuw6b+R0ChIRkbNwINTPXU8e5bcvWc5nrj8fM007mMzBdhGRtPOVR1ooysvlj69apxCJUZCIiMzSkc5B/nPPcX7r4uXUZNHsvjNRkIiIzNJXH20hN8e49S2rk11KSlGQiIjMwrGeYb73dBs3XdhEfXlmXnt9rhQkIiKz8C8/bwHg965oTnIlqUdBIiIyg1DfCPfsbOXGNzXSULko2eWkHAWJiMg0eofG+YeHXiIccX7/yjXJLicl6TwSEZHTHAgN8MDe4zz2cju7W3uIOPzmxctZXlOc7NJSkoJERCRO/8g413/5vxkaD7OhsZIPv20tV6yrY1NTZbJLS1kKEhGROD9/uZ3BsTB3/e7FXLqmNtnlpAWNkYiIxPnJvlNUlxRw8eqaZJeSNhQkIiIx4+EIP3sxxNvOqSc3R9OfzJaCREQkZuehLvpGJrh6fXZeoGquFCQiIjEP7TtFYV4Ol6/V2MjZUJCIiBC9WNXD+07x5jW1FBfoOKSzoSAREQFeONHPsZ5hdWvNgYJERAT4yQunMIO3n6sgOVsKEhER4OF9p7igqZK6Ml1n5GwpSEQk653oHebZY71cvX5JsktJSwoSEcl6P9l3CkDjI3OkIBGRrPfQvlOsqi2hua4k2aWkJQWJiGS1vpFxdhzs5Or1izHT2exzoSARkaz2X8+eZDzsvON8jY/MlYJERLLaD3YfY2VNsaaJT4CCRESy1sneEbYf7OT6TQ3q1kqAgkREstZ9e47hDu++oCHZpaQ1BYmIZK17nznOxqZKVtXqaK1EKEhEJCu9dLKfF070ccOmZckuJe0pSEQkK/1g9zFyc4x3blSQJEpBIiJZJxJx7tt9nMvX1lJbqrm1EqUgEZGss/NwF8d6hnn3Jg2yzwcFiYhknR/sPk5xQS7XnKe5teaDgkREssroRJgf7j3ONesX60qI80RBIiJZ5T93H6dvZIJffVNjskvJGAoSEcka4+EIX/7ZAd7YUMHla2uTXU7GUJCISNa49+ljHO0a4qNXrdWUKPMo0CAxs2vN7CUzO2BmfzrF88vN7BEze8bM9prZdUHWIyLZazwc4UuP7GdDYwVvO6c+2eVklMCCxMxygX8G3gGsB242s/WnrfbnwLfd/QLgJuArQdUjItnt+0+30do1rL2RAAS5R3IRcMDdD7r7GHAPcP1p6zhQHrtfARwPsB4RyVJjExG+9LMDbGyq5K1v0N7IfAsySBqA1rjHbbFl8f4S+G0zawN+BHxkqjcys1vNbJeZ7Wpvbw+iVhHJYN9/uo22bu2NBCXIIJlqa/lpj28G7nD3RuA64Jtm9rqa3P02d9/i7lvq6uoCKFVEMtXk3simpkquXKffH0EIMkjagKa4x428vuvqg8C3Adx9O1AE6Jg8EZk39+05zrGeYf5IeyOBCTJIdgJrzWyVmRUQHUy/77R1jgJvBzCzc4kGifquRGReuDt3bjvMusWl2hsJUGBB4u4TwIeBB4EXiB6d9byZfdrM3hVb7X8BHzKzPcDdwC3ufnr3l4jInOxu7eHZY728d+tK7Y0EKNCJZtz9R0QH0eOXfTLu/j7gsiBrEJHs9W/bj1BWmMev6lK6gdKZ7SKSkdr7R/nh3hPcuLmRkkJNzhgkBYmIZKRv7TzKWDjCe7euSHYpGU9BIiIZZyIc4d93HOXytbU015Umu5yMpyARkYzz8L5TnOwb4Xe2rkx2KVlBQSIiGefO7YdpqFykyRkXiIJERDLKCyf62HGwi/duXUFujg75XQgKEhHJGAdC/Xzwjp2UFeXxni1NM79A5oWCREQywlNHurjxq9sZCzt3f+gSqksKkl1S1tDB1SKS9h7ed4oP3/U0yyoXcef7L2J5TXGyS8oqChIRSVuRiHP7E4f46x+9wBsbKrj9lgupKS1MdllZR0EiImnpVN8IH//OHh7f38HV6xfzT7+xSWewJ4n+10Uk7fz42RP82b3PMjIe5rM3nM9vXrRckzImkYJERFJWJOI88lKIPW29hPpGONU3woneEV482c+Gxgo+/xubdOZ6ClCQiEjKGRkPc+8zx/jXxw9ysH0QM6gtLWRxeSHLKhfxrk3L+NDlq8nP1YGnqUBBIiIp42TvCN/a2co3dxymY2CM8xvK+eLNF3DteUsoyFNopCoFiYgkVTji/PzlEHf9opWfvXiKiMMV6+r4vbesZmtzjcY+0oCCREQCc7J3hBdO9jE6HiHiTjjijIcjHO8Z5lDHEEc6B2lpH6B7aJza0kJ+74pmbrqwiRU1JckuXc6CgkRE5sXA6AR7Wnt45mg3u1t72dvWQ6h/9IzrLykvYkVNMb903hKuWFfHVesXa8wjTSlIRLKcu9M+MEpLaJCDHQOMT0SoKimgsriAquJ8SgvzyMvJITfXyM8xRicinOwb4WRv9CiqQx2DPH20h5dO9hHx6Huuri3hsjW1bGis4LxlFZQU5pKbY+SakZtjLKkoorhAv34yhbakSBaYCEfY09bL9pYOjveO0Ds0Ts/wGN2D47R2D9E/MjHn9y4rzGPT8kquftta3rS8kguaqqgozp/H6iXVKUhEMsTA6ATbWzoZGpsgHImORwyOTvDk4S7+e38HfSMTmEF1cQEVxflULspnSUURm1dU0VxXwuq6UlbXlbAoP5fuoXF6hsboGhxjaCzMRMQJRyJMRJz8nBzqywtZUlHEkvIiKhbla0A8yylIRNKYu/PUkW6+tbOVHz57gqGx8OvWWVJexLXnL+Et6+p485paKotnnhVX81XJ2VCQiKSBF0/28dVHW3jiQAeFebkUF0RvvcPjHO4corggl1/ZsIx3X9BAfXkheTnRsYiC3Bzqygq1xyCBUpCIpLBdh7v46qMt/PTFEMUFuVx73hIwGB4LMzQWprqkgN+/cg2/vGGpJiyUpNE3TyRF9A6P89LJfva09rCnLXpr7Rqmqjifj129jt/ZumJW3VIiCy1rgiQSOy4xR9dwlhTQ3j/Kvc+0saetl6OdQxztGqJ3ePyV5xsqF7GxqYJbL1/NjZsbdaispLSs+Xb+4lAXH/v2bt65YSnv2tjA+Q3lSes3Hg9HeO5YL08e6uKlU/3UlxWxvLqY5dXFNFYtoqwoj0UFuRTl5WIG3UPjHOkc5GjXEK1dQ4QjUJSf88o6ZUV5VJUUUFVcQFVJPjh0DkaPuOkcHKOmpIBLNdXEghqdCHOyd4QcM4oLcikpzCM/N4fH9rdzz5NH+ekLISYizoqaYlbUlLCxqYIV1SU015ewobGSWg12SxrJmiApys/hvGXl3LHtMP/6+CFW1ZbwKxuWcuPmximnY9h3vI9v7TxKYX4u5ywp45wl5aypL6V9YJQnDnSw7UAHT7R04g6bV1SyZUU1m1dWcd6ycgrzcl/zXu5OS/sAj7zYzmP723nqSPcrR9fUlxXSPTTGeNinrLsgN4excCTh9q9bXMqHLl/N9ZsaNPndPIpEotv2ycNdPHO0h8Mdg7R1D3OqfwQ/bZOagTvUlBTwgTev4j1bmlhTrynQJf2Zn/5tT3FbtmzxXbt2zfn1PUNjPPj8Se7fc4JtLR1EHC5truGmi5ZzzfrFbGvp4OuPH2JbSydF+TlEHMYmor/Ic3OMcKyLrLa0gEuba8nLMXYd6eZo1xAAOQaNVcWsrC1hdW0J4Yjz6MshWruGAVhbX8rW5houXlXDhauqqC8rIhxxTvaNcLRziGM9wwyNTTAUG0wdHQ9TV1bIypoSVtQU01RdTH5uDiPjYYbHwwyPhekbGadnaJzuoTG6B8fAjJqSAqpLCqgpKeDZY73c9thBXjzZz+LyQm6+aDkXrqzmjY0VlBdl34lj4YgT6h+hc2CMgdEJBkcnGBidoDAvlwuWV7K4vOiMr3V3DoQGeHx/B9taOtl1pIueoWiXVG1pAavrSmmqKqapehENlYsws1fef2hsgvOWVXDVuYsV5rLgzOwpd98SyHtnW5DEO9k7wnefauWena20dQ+Tl2NMRJwl5UXcctlKbr5wOSWFuRzqGOSFk/28dLKP6pJC3rymlnWLS1/TVRTqH+HpI93sO9HPoY5BDncMcqhjkIlIhMuaa3nrOfVc+YY6GquK56X2s+XuPLa/g9sea+GJA52vLF9dW8K6xWXk5b7altwcY2nFIpqqF7G8upimqmLqywsD7acfGQ+z83AXj+/v4LGX2znYPsgbGyu4aFU1F62qZsuKKsqmCb2JcITe4fHX3LoGx2jvH6VjYJSOgTFO9A5zrGeYEz0jTETO/L1vqFzEm1ZUsa6+lIhHuyLHwhE6+kfZ1tLJyb4RAFbUFHPxqmouXBm9ragpVvehpCwFSZz5DJJJkYizraWTh/adZPOKKq5749J5mTzO3Yl49BdzKukdGmfvsZ7Y0UG9HGwfIP5bMB6OcLJ35HXdbSUFudSVFVJXVsiKmhKa60ppriuhub6USMRp7x+lfWA0+m//KKFX/h2hrCifi1dVs7W5hs0rqijIzeHZY71sa+lke0snOw93MToRoSA3hwtXVbG2voy9bT3sbetlIuKYwaraEs5bVsF5y8pZU1dKa/cQzx/vY9/xPvaH+s/YPViYl0NtafRM7IbKRTRURfcW6soKKSvMoyR26xsZ5+kj3TxztIenjnS/Ehi5OUZ+rlFWlM9Fq6q5fE0tl62ppak6OX8UiMyFgiROEEEirzfZ3dYaG+B/TUD0jXK4c3DamV0L8nKoKy2kvryQ2tJCOgZG2dvWSzji5OUYhXk5DMbGic5ZUsalzbVcvq6Wi1dVv2bPZ2hsgt1He9h5uJvnj/fy/PE+jvUMv/J8TUkB65eVs35Z+SvTdVQW51OxKJ/qkkJqSwsoLcyb057CyHiY/NyclPtDQGQuFCRxFCSpo29knIPtgxxsHyA/N/pXf11ZIXWlhZQvev0v78HRCXYd6WZ7SyeDoxNcsrqGS1ZXn/V0HN2DYxzsGKCxqph6nbUtMisKkjgKEhGRsxdkkOjQERERSYiCREREEqIgERGRhAQaJGZ2rZm9ZGYHzOxPz7DOe8xsn5k9b2Z3BVmPiIjMv8DOMDOzXOCfgauBNmCnmd3n7vvi1lkL/Blwmbt3m1l9UPWIiEgwgtwjuQg44O4H3X0MuAe4/rR1PgT8s7t3A7h7KMB6REQkAEEGSQPQGve4LbYs3jpgnZk9YWY7zOzaAOsREZEABDn771RniZ1+0koesBa4EmgEHjez89295zVvZHYrcCvA8uXL579SERGZsyCDpA1oinvcCByfYp0d7j4OHDKzl4gGy874ldz9NuA2ADNrN7Mjp71PBdA7w7LpHk/ej19WC3RM077pTFXP2axztu2Z6X4ibZmp1pnWyaRtM5u2nL4syG2j79n0y9P1e3am5xLdNitmrHqu3D2QG9GQOgisAgqAPcB5p61zLXBn7H4t0a6wmjl81m0zLZvu8eT905btSqDtr6vnbNY52/bMdD+RtiTankzaNrNpy0JuG33PMvN7lorbZqZbYGMk7j4BfBh4EHgB+La7P29mnzazd8VWexDoNLN9wCPAn7h759TvOK37Z7Fsusf3n2GduZrN+0y3ztm2Zzb3E5FIezJp28ymLacvC3Lb6Hs2/fJ0/Z6d6blkbptppd1cWwvFzHZ5QPPSLLRMagtkVnvUltSVSe0Jui06s/3Mbkt2AfMok9oCmdUetSV1ZVJ7Am2L9khERCQh2iMREZGEZHyQmNntZhYys+fm8NrNZvZsbK6wL1rcFZTM7COxecSeN7O/n9+qp61p3ttjZn9pZsfMbHfsdt38Vz5lPYFsm9jzHzczN7Pa+at4xpqC2DafMbO9se3ykJktm//Kp6wniLZ8zsxejLXnXjOrnP/Kz1hTEO359djPf8TMAh9LSaQNZ3i/95nZ/tjtfXHLp/3ZmlKQh4Slwg14C/Am4Lk5vPZJYCvRkyt/DLwjtvytwE+Awtjj+jRvz18CH8+EbRN7ronoEYFHgNp0bg9QHrfOHwJfS+O2XAPkxe7/HfB3ab5tzgXeADwKbEnVNsTqW3nasmqip2dUA1Wx+1XTtXe6W8bvkbj7Y0BX/DIzazaz/zKzp8zscTM75/TXmdlSoj/E2z36v/tvwLtjT/9P4G/dfTT2GQs2R1hA7UmKANvyeeB/8/qZFAIVRHvcvS9u1RIWqE0BteUhj54WALCD6EnKCyKg9rzg7i8tRP2xz5tTG87gl4CH3b3Lo3MdPgxcO9ffExkfJGdwG/ARd98MfBz4yhTrNBA9835S/Fxh64DLzewXZvZzM7sw0Gpnlmh7AD4c63K43cyqgit1Rgm1xaLnKB1z9z1BFzpLCW8bM/usmbUCvwV8MsBaZzIf37NJHyD6124yzWd7kmU2bZjKmeZCnFN7g5wiJSWZWSlwKfCduK6/wqlWnWLZ5F+DeUR3By8BLgS+bWarYwm+oOapPV8FPhN7/BngH4n+oC+oRNtiZsXAJ4h2oSTdPG0b3P0TwCfM7M+InuT7qXkudUbz1ZbYe30CmAD+Yz5rPBvz2Z5kma4NZvZ+4I9iy9YAPzKzMeCQu9/Amds1p/ZmXZAQ3QvrcfdN8Qstev2Up2IP7yP6yzV+1zt+rrA24Pux4HjSzCJEp3hpD7LwM0i4Pe5+Ku51/wo8EGTB00i0Lc1Ep+TZE/vBagSeNrOL3P1kwLVPZT6+a/HuAn5IEoKEeWpLbFD3ncDbk/GHV5z53jbJMGUbANz9G8A3AMzsUeAWdz8ct0ob0clyJzUSHUtpYy7tDXqAKBVuwEriBqiAbcCvx+4bsPEMr9tJdK9jctDputjy/wF8OnZ/HdFdREvj9iyNW+ePgXvStS2nrXOYBRxsD2jbrI1b5yPAd9O4LdcC+4C6hdwmQX/XWKDB9rm2gTMPth8i2rNSFbtfPZv2TllXMjboAn957gZOAONE0/aDRP9q/S+iE0mHAw30AAADnUlEQVTuAz55htduAZ4DWoAv8+oJnAXAv8eeexp4W5q355vAs8Beon+FLU3Xtpy2zmEW9qitILbN92LL9xKdN6khjdtygOgfXbtjtwU5Ai3A9twQe69R4BTwYCq2gSmCJLb8A7FtcgB4/0ztne6mM9tFRCQh2XrUloiIzBMFiYiIJERBIiIiCVGQiIhIQhQkIiKSEAWJZAQzG1jgz/u6ma2fp/cKW3R23+fM7P6ZZsU1s0oz+/35+GyR+aDDfyUjmNmAu5fO4/vl+asTDAYqvnYzuxN42d0/O836K4EH3P38hahPZCbaI5GMZWZ1ZvY9M9sZu10WW36RmW0zs2di/74htvwWM/uOmd0PPGRmV5rZo2b2XYteR+M/Jq/NEFu+JXZ/IDax4h4z22Fmi2PLm2OPd5rZp2e517SdVyegLDWzn5rZ0xa9PsT1sXX+FmiO7cV8Lrbun8Q+Z6+Z/dU8/jeKzEhBIpnsC8Dn3f1C4Ebg67HlLwJvcfcLiM6m+9dxr9kKvM/d3xZ7fAHwUWA9sBq4bIrPKQF2uPtG4DHgQ3Gf/4XY5884X1Fsnqe3E51dAGAEuMHd30T0Gjj/GAuyPwVa3H2Tu/+JmV0DrAUuAjYBm83sLTN9nsh8ycZJGyV7XAWsj5sZtdzMyoAK4E4zW0t0ZtP8uNc87O7x13x40t3bAMxsN9G5jv77tM8Z49WJLp8Cro7d38qr13K4C/iHM9S5KO69nyJ6bQiIznX017FQiBDdU1k8xeuvid2eiT0uJRosj53h80TmlYJEMlkOsNXdh+MXmtmXgEfc/YbYeMOjcU8PnvYeo3H3w0z9MzPurw42nmmd6Qy7+yYzqyAaSH8AfJHo9UfqgM3uPm5mh4GiKV5vwN+4+7+c5eeKzAt1bUkme4jo9TsAMLPJ6bYrgGOx+7cE+Pk7iHapAdw008ru3kv0crofN7N8onWGYiHyVmBFbNV+oCzupQ8CH4hdnwIzazCz+nlqg8iMFCSSKYrNrC3u9jGiv5S3xAag9xGd/h/g74G/MbMngNwAa/oo8DEzexJYCvTO9AJ3f4boTK43Eb3w0xYz20V07+TF2DqdwBOxw4U/5+4PEe06225mzwLf5bVBIxIoHf4rEpDYFRuH3d3N7CbgZne/fqbXiaQbjZGIBGcz8OXYkVY9JOHyxSILQXskIiKSEI2RiIhIQhQkIiKSEAWJiIgkREEiIiIJUZCIiEhCFCQiIpKQ/w9zifpqJ6JL8wAAAABJRU5ErkJggg==\n",
      "text/plain": [
       "<Figure size 432x288 with 1 Axes>"
      ]
     },
     "metadata": {
      "needs_background": "light"
     },
     "output_type": "display_data"
    }
   ],
   "source": [
    "learn.recorder.plot()"
   ]
  },
  {
   "cell_type": "code",
   "execution_count": 31,
   "metadata": {
    "scrolled": false
   },
   "outputs": [
    {
     "data": {
      "text/html": [
       "<table border=\"1\" class=\"dataframe\">\n",
       "  <thead>\n",
       "    <tr style=\"text-align: left;\">\n",
       "      <th>epoch</th>\n",
       "      <th>train_loss</th>\n",
       "      <th>valid_loss</th>\n",
       "      <th>error_rate</th>\n",
       "      <th>time</th>\n",
       "    </tr>\n",
       "  </thead>\n",
       "  <tbody>\n",
       "    <tr>\n",
       "      <td>0</td>\n",
       "      <td>0.640654</td>\n",
       "      <td>0.662567</td>\n",
       "      <td>0.382413</td>\n",
       "      <td>00:21</td>\n",
       "    </tr>\n",
       "    <tr>\n",
       "      <td>1</td>\n",
       "      <td>0.633229</td>\n",
       "      <td>0.662397</td>\n",
       "      <td>0.384458</td>\n",
       "      <td>00:21</td>\n",
       "    </tr>\n",
       "    <tr>\n",
       "      <td>2</td>\n",
       "      <td>0.627317</td>\n",
       "      <td>0.656364</td>\n",
       "      <td>0.394683</td>\n",
       "      <td>00:21</td>\n",
       "    </tr>\n",
       "    <tr>\n",
       "      <td>3</td>\n",
       "      <td>0.626663</td>\n",
       "      <td>0.655229</td>\n",
       "      <td>0.386503</td>\n",
       "      <td>00:21</td>\n",
       "    </tr>\n",
       "    <tr>\n",
       "      <td>4</td>\n",
       "      <td>0.626051</td>\n",
       "      <td>0.654990</td>\n",
       "      <td>0.384458</td>\n",
       "      <td>00:21</td>\n",
       "    </tr>\n",
       "  </tbody>\n",
       "</table>"
      ],
      "text/plain": [
       "<IPython.core.display.HTML object>"
      ]
     },
     "metadata": {},
     "output_type": "display_data"
    }
   ],
   "source": [
    "learn.fit_one_cycle(5,max_lr=slice(1e-6,1e-5))"
   ]
  },
  {
   "cell_type": "code",
   "execution_count": 33,
   "metadata": {},
   "outputs": [],
   "source": [
    "learn.save('Model 2')"
   ]
  }
 ],
 "metadata": {
  "kernelspec": {
   "display_name": "Python 3",
   "language": "python",
   "name": "python3"
  },
  "language_info": {
   "codemirror_mode": {
    "name": "ipython",
    "version": 3
   },
   "file_extension": ".py",
   "mimetype": "text/x-python",
   "name": "python",
   "nbconvert_exporter": "python",
   "pygments_lexer": "ipython3",
   "version": "3.8.1"
  }
 },
 "nbformat": 4,
 "nbformat_minor": 2
}

